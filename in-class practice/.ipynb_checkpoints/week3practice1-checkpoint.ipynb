{
 "cells": [
  {
   "cell_type": "markdown",
   "id": "a5dbb53f-8913-4905-900a-dac458aa6e46",
   "metadata": {},
   "source": [
    "# STATS 507, Week 3-1 practice"
   ]
  },
  {
   "cell_type": "markdown",
   "id": "ea5aa07d-77e8-4446-868b-484a54c6f12f",
   "metadata": {},
   "source": [
    "### Problem 1\n",
    "\n",
    "\n",
    "Use a list comprehension to create a new list containing only the even numbers."
   ]
  },
  {
   "cell_type": "code",
   "execution_count": null,
   "id": "7fa5b9df-301a-4a45-8e5d-86dd6a6e6b69",
   "metadata": {},
   "outputs": [],
   "source": [
    "numbers = [1, 2, 3, 4, 5, 6, 7, 8, 9, 10, 11, 12, 13, 14, 15]\n",
    "\n",
    "# Equivalent for loop\n",
    "even_numbers_using_loop = []\n",
    "for num in numbers:\n",
    "    if num % 2 == 0:\n",
    "        even_numbers_using_loop.append(num)\n",
    "print(\"even_numbers_using_loop\", even_numbers_using_loop)\n",
    "\n",
    "# Using list comprehension\n",
    "# YOUR CODE HERE\n",
    "print(\"Even numbers:\", even_numbers_using_list_comprehension)"
   ]
  },
  {
   "cell_type": "markdown",
   "id": "cb5bdf8a-86f8-4b1b-95dd-2a0d0d673945",
   "metadata": {},
   "source": [
    "### Problem 2\n",
    "Write a Python function that takes a string(sen) as input and returns a list containing all the words in sen, but sorted in alphabetical order."
   ]
  },
  {
   "cell_type": "code",
   "execution_count": null,
   "id": "f5da5422-ebad-457b-88b9-7d0d1f96622c",
   "metadata": {},
   "outputs": [],
   "source": [
    "def sort_words(sen):\n",
    "    # YOUR CODE HERE\n",
    "    raise NotImplementedError()\n",
    "\n",
    "# expected ['at', 'look', 'photograph', 'this']\n",
    "sen = \"Look at this photograph\"\n",
    "print(sort_words(sen))\n",
    "\n",
    "# help(str.split) # uncomment to read the documentation"
   ]
  },
  {
   "cell_type": "markdown",
   "id": "c0626107-386e-4a7f-a60d-01f0932298fd",
   "metadata": {},
   "source": [
    "### Problem 3\n",
    "Given a string s containing just the characters '(', ')', '{', '}', '[' and ']', determine if the input string is valid.\n",
    "\n",
    "An input string is valid if:\n",
    "\n",
    "1) Open brackets must be closed by the same type of brackets.\n",
    "2) Open brackets must be closed in the correct order.\n",
    "3) Every close bracket has a corresponding open bracket of the same type.\n"
   ]
  },
  {
   "cell_type": "code",
   "execution_count": null,
   "id": "0649557c-ba71-4d18-a282-9525e0da627d",
   "metadata": {},
   "outputs": [],
   "source": [
    "def is_valid(s):\n",
    "    # YOUR CODE HERE\n",
    "    raise NotImplementedError()"
   ]
  },
  {
   "cell_type": "code",
   "execution_count": null,
   "id": "dda4dd33-4c05-445c-9afb-6439ec61ebc1",
   "metadata": {},
   "outputs": [],
   "source": [
    "assert is_valid('()') == True\n",
    "assert is_valid('([{') == False\n",
    "assert is_valid('([{}])') == True"
   ]
  },
  {
   "cell_type": "markdown",
   "id": "52253f31-c831-4815-bacc-8150e070b603",
   "metadata": {},
   "source": [
    "### Problem 4 String Formatting"
   ]
  },
  {
   "cell_type": "code",
   "execution_count": null,
   "id": "dfa7593f-7d02-48c8-87a1-10e004996010",
   "metadata": {},
   "outputs": [],
   "source": [
    "# Xian Zhang scored 85.5 in Stats 507, receiving a grade of B+ and ranking 50th in class.\n",
    "\n",
    "# Given variables\n",
    "name = \"Xian Zhang\"\n",
    "subject = \"Stats 507\"\n",
    "score = 85.5\n",
    "grade = \"B+\"\n",
    "rank = \"50th\"\n",
    "\n",
    "# 1. Using %-formatting\n",
    "# YOUR CODE HERE\n",
    "# 2. Using str.format() method\n",
    "# YOUR CODE HERE\n",
    "# 3. Using f-string\n",
    "# YOUR CODE HERE"
   ]
  }
 ],
 "metadata": {
  "kernelspec": {
   "display_name": "Python 3 (ipykernel)",
   "language": "python",
   "name": "python3"
  },
  "language_info": {
   "codemirror_mode": {
    "name": "ipython",
    "version": 3
   },
   "file_extension": ".py",
   "mimetype": "text/x-python",
   "name": "python",
   "nbconvert_exporter": "python",
   "pygments_lexer": "ipython3",
   "version": "3.12.2"
  }
 },
 "nbformat": 4,
 "nbformat_minor": 5
}
